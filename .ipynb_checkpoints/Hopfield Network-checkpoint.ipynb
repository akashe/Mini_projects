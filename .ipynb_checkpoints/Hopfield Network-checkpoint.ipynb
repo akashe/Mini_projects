{
 "cells": [
  {
   "cell_type": "markdown",
   "metadata": {},
   "source": [
    "Reason for interest in Hopfield Network:\n",
    "a) Unsupervised nature of algorithm\n",
    "b) Can be used to save memories\n",
    "Starting with implementation of a simple Hopfield Network.\n",
    "    - states to be 1 and -1\n",
    "    - fucn for sequential update of network\n",
    "    \n",
    "Questions:\n",
    "    - what do weights represent here..are they updatable?\n",
    "    - how many iterations of sequential update rule I have to do? untill they no more energy change? "
   ]
  },
  {
   "cell_type": "markdown",
   "metadata": {},
   "source": [
    "Hopfield Network Alogrithm:\n",
    "1. Input = N binary patterns that you want to remember. Each bit can be [0,1] or [-1,1]\n",
    "2. Initialize weight matrix, using the above patterns:\n",
    "    \n",
    "    for each pattern in input:\n",
    "        create new matrix following hebbian rule:\n",
    "\\begin{align*}W_{ij}&= \\frac{1}{n}\\sum_{\\mu=1}^{n}(bit_{i}^{\\mu})(bit_{j}^{\\mu}) \\text{ }if\\text{ } i \\ne j \\\\\n",
    "&= 0 \\text{ }if\\text{ } i = j\n",
    "\\end{align*}\n",
    "\n",
    "where n is the total patterns and $(bit_{i}^{\\mu})$ is bit i of pattern $\\mu$\n",
    "\n",
    "3. Initialize a random pattern, $V$ which is similar to input binary patterns. The pattern can be totally different.\n",
    "\n",
    "4. Start iterating through the matrix. Iterate through the matrix in not completely random order. like be random in rows and not in columns.\n",
    "    \n",
    "if $\\sum_{j} W_{ij}V_i>0$ then $V_i=+1$\n",
    "else $V_i=0 \\text{ }or -1$, depends on your input type.\n",
    "\n",
    "5. Keep iterating untill the energy hasn't changed. In other words if none of bits are changed over one complete pass over the $V$\n",
    "\n",
    "Now, Hopfield networks will identify the closest pattern to that of random pattern in point 3\n",
    "    "
   ]
  },
  {
   "cell_type": "code",
   "execution_count": 2,
   "metadata": {},
   "outputs": [
    {
     "data": {
      "image/png": "[encoded data removed]",
      "text/plain": [
       "<Figure size 432x288 with 1 Axes>"
      ]
     },
     "metadata": {
      "needs_background": "light"
     },
     "output_type": "display_data"
    },
    {
     "data": {
      "image/png": "[encoded data removed]",
      "text/plain": [
       "<Figure size 432x288 with 1 Axes>"
      ]
     },
     "metadata": {
      "needs_background": "light"
     },
     "output_type": "display_data"
    },
    {
     "data": {
      "image/png": "[encoded data removed]",
      "text/plain": [
       "<Figure size 432x288 with 1 Axes>"
      ]
     },
     "metadata": {
      "needs_background": "light"
     },
     "output_type": "display_data"
    },
    {
     "name": "stdout",
     "output_type": "stream",
     "text": [
      "Random pattern:\n"
     ]
    },
    {
     "data": {
      "image/png": "[encoded data removed]",
      "text/plain": [
       "<Figure size 432x288 with 1 Axes>"
      ]
     },
     "metadata": {
      "needs_background": "light"
     },
     "output_type": "display_data"
    },
    {
     "name": "stdout",
     "output_type": "stream",
     "text": [
      "Final pattern\n"
     ]
    },
    {
     "data": {
      "image/png": "[encoded data removed]",
      "text/plain": [
       "<Figure size 432x288 with 1 Axes>"
      ]
     },
     "metadata": {
      "needs_background": "light"
     },
     "output_type": "display_data"
    }
   ],
   "source": [
    "import numpy as np\n",
    "import random\n",
    "from functools import reduce\n",
    "import matplotlib.pyplot as plt\n",
    "\n",
    "# high low\n",
    "high = 1\n",
    "low = 0\n",
    "\n",
    "## Starting Patterns\n",
    "pattern_length = 50\n",
    "no_of_starting_patterns = 3\n",
    "\n",
    "patterns = np.array([[random.choice([high,low]) for i in range(pattern_length)] for j in range(no_of_starting_patterns)])\n",
    "for pattern in patterns:\n",
    "    plt.imshow(pattern[None,:],cmap='Greys')\n",
    "    plt.show()\n",
    "\n",
    "\n",
    "weights = (patterns.T@patterns)/pattern_length\n",
    "np.fill_diagonal(weights,0)\n",
    "\n",
    "# Random pattern\n",
    "v = np.array([random.choice([high,low]) for i in range(pattern_length)])\n",
    "print(\"Random pattern:\")\n",
    "plt.imshow(v[None,:],cmap='Greys')\n",
    "plt.show()\n",
    "\n",
    "\n",
    "# Initializing energy function:\n",
    "def energy(weights,v):\n",
    "    energy = 0\n",
    "    for i in range(pattern_length):\n",
    "        for j in range(pattern_length):\n",
    "            if i<j:\n",
    "                energy -= weights[i][j]*v[i]*v[j]\n",
    "    \n",
    "    return energy\n",
    "\n",
    "# Updating V to closest pattern:\n",
    "total_steps = 100000\n",
    "steps =0 \n",
    "while(True):\n",
    "    a = np.random.randint(0,pattern_length,pattern_length)\n",
    "    random.shuffle(a)\n",
    "    updated_bits = 0\n",
    "    start_energy = energy(weights,v)\n",
    "    for i in a:\n",
    "        V_temp = np.sum(weights[i,:]*v)\n",
    "        if V_temp>0:\n",
    "            v[i] = high\n",
    "            updated_bits += 1\n",
    "        else:\n",
    "            v[i] = low\n",
    "    new_energy = energy(weights,v)\n",
    "    steps+=1\n",
    "    if new_energy>=start_energy:\n",
    "        break\n",
    "print(\"Final pattern\")\n",
    "# print(v)\n",
    "plt.imshow(v[None,:],cmap='Greys')\n",
    "plt.show()"
   ]
  },
  {
   "cell_type": "markdown",
   "metadata": {},
   "source": [
    "Observations:\n",
    "1. When I started with a random matrix and used energy approach to toggle digits in a pattern, then I got the same final pattern but it wont happen when i used a larger number of digits\n",
    "\n",
    "    Intial reaction: OMG!!!! The final nodes come out same for the same weights. Is this why they can act as memories??\n",
    "\n",
    "2. When I implemented an another version of it. Intializing weight mztrix with 3 memory patterns, it didnt really identify the closest memory.\n",
    "\n",
    "\n",
    "Hopfiled Networks work only when the pattern is already pretty close to the startin memory..or else it doesnt converge."
   ]
  }
 ],
 "metadata": {
  "kernelspec": {
   "display_name": "Python 3",
   "language": "python",
   "name": "python3"
  },
  "language_info": {
   "codemirror_mode": {
    "name": "ipython",
    "version": 3
   },
   "file_extension": ".py",
   "mimetype": "text/x-python",
   "name": "python",
   "nbconvert_exporter": "python",
   "pygments_lexer": "ipython3",
   "version": "3.7.9"
  }
 },
 "nbformat": 4,
 "nbformat_minor": 4
}
